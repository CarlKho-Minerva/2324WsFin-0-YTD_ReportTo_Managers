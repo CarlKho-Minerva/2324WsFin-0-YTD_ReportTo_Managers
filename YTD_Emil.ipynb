{
 "cells": [
  {
   "cell_type": "code",
   "execution_count": null,
   "metadata": {},
   "outputs": [],
   "source": [
    "import csv\n",
    "import pandas as pd\n",
    "\n",
    "# Read the CSV file into a DataFrame\n",
    "sheet = pd.read_csv(\n",
    "    \"YTD and Spring semester total hours  - Total Hours Summa.csv\")  #here paste the local path to csv file of YTD data\n",
    "\n",
    "# Create an empty dictionary to store messages for each manager\n",
    "messages_dict = {}\n",
    "\n",
    "# Group the DataFrame by \"Manager Email\"\n",
    "grouped_sheet = sheet.groupby(\"Manager Email\")\n",
    "\n",
    "# Loop through each group\n",
    "for email, group in grouped_sheet:\n",
    "    # Get the manager's name and email address\n",
    "    manager_name = group[\"Manager Name\"].iloc[0]\n",
    "    manager_email = email\n",
    "\n",
    "    # Print a message to confirm the manager's name and email address\n",
    "    print(f\"Creating message for {manager_name} at {manager_email}...\")\n",
    "\n",
    "    # Loop through each intern in the group\n",
    "    message = f\"Dear {manager_name},\\nI hope you are doing well.\\n\\nThere was a technical issue in the previous email. You can find the updated data in this email.\\n\\nBelow, you can find the Year-to-Date and Semester total hours of your WS interns.\\n\\n\"\n",
    "    for index, row in group.iterrows():\n",
    "        student_first_name = row[\"Student First Name\"]\n",
    "        student_last_name = row[\"Student Last Name\"]\n",
    "        ytd = row[\"Year-To-Date Total Hours\"]\n",
    "        spring = row[\"Spring Total Hours\"]\n",
    "        left_hours = row[\"Total Spring hours left\"]\n",
    "        message += f\"{student_first_name} {student_last_name}: YTD = {ytd}, Spring hours = {spring}, Hours left to work = {left_hours}\\n\\n\"\n",
    "\n",
    "    message += \"Best,\\nEmil Rustamli\"\n",
    "\n",
    "    # Add the message to the messages_dict, with the manager's email as the key\n",
    "    messages_dict[manager_email] = message\n",
    "\n",
    "# Write the messages to a CSV file\n",
    "with open(\"messages.csv\", \"w\", newline=\"\") as csvfile:\n",
    "    writer = csv.writer(csvfile)\n",
    "    writer.writerow([\"Manager Email\", \"Message\"])\n",
    "    for email, message in messages_dict.items():\n",
    "        writer.writerow([email, message])\n"
   ]
  }
 ],
 "metadata": {
  "language_info": {
   "name": "python"
  },
  "orig_nbformat": 4
 },
 "nbformat": 4,
 "nbformat_minor": 2
}
